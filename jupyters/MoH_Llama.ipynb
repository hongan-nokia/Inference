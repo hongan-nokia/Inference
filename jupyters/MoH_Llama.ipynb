{
 "cells": [
  {
   "cell_type": "code",
   "execution_count": 10,
   "id": "464624de-02e1-497d-a40c-a300aeccb089",
   "metadata": {},
   "source": [
    "from transformers import AutoModelForCausalLM, AutoTokenizer"
   ],
   "outputs": []
  },
  {
   "cell_type": "code",
   "execution_count": 11,
   "id": "b3ec8e91-9494-468d-8206-77e9f11d432e",
   "metadata": {},
   "source": [
    "model_dir = \"/data/Models/Llama-3.2-3B-Instruct-QLORA_INT4_EO8\""
   ],
   "outputs": []
  },
  {
   "cell_type": "code",
   "execution_count": 12,
   "id": "dcdcedec-04a2-4cdb-89b0-2b227e19bfb4",
   "metadata": {},
   "source": [
    "model = AutoModelForCausalLM.from_pretrained(model_dir, trust_remote_code=True, device_map='auto')\n",
    "tokenizer = AutoTokenizer.from_pretrained(model_dir, trust_remote_code=True)"
   ],
   "outputs": []
  },
  {
   "cell_type": "code",
   "execution_count": 4,
   "id": "d58cdab8-2acd-4615-b4b7-d8b54346314e",
   "metadata": {},
   "source": [
    "question = \"Introduce UT Austin to me\"\n",
    "\n",
    "\n",
    "inputs = tokenizer(question, return_tensors='pt').to(model.device)\n",
    "response = model.generate(inputs.input_ids, max_length=128)\n",
    "response"
   ],
   "outputs": []
  },
  {
   "cell_type": "code",
   "execution_count": 9,
   "id": "c65b638a-6d6b-4c62-83b6-199b7657f6bc",
   "metadata": {},
   "source": [
    "print(tokenizer.decode(response.cpu()[0], skip_special_tokens=True))"
   ],
   "outputs": []
  },
  {
   "cell_type": "code",
   "execution_count": null,
   "id": "26fa6657-4873-4a2b-8a47-e1ddb1cabe87",
   "metadata": {},
   "source": [],
   "outputs": []
  }
 ],
 "metadata": {
  "kernelspec": {
   "display_name": "torch",
   "language": "python",
   "name": "torch"
  },
  "language_info": {
   "codemirror_mode": {
    "name": "ipython",
    "version": 3
   },
   "file_extension": ".py",
   "mimetype": "text/x-python",
   "name": "python",
   "nbconvert_exporter": "python",
   "pygments_lexer": "ipython3",
   "version": "3.10.16"
  }
 },
 "nbformat": 4,
 "nbformat_minor": 5
}
