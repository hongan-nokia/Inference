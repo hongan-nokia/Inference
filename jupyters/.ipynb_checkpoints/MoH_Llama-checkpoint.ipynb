{
 "cells": [
  {
   "cell_type": "code",
   "execution_count": 1,
   "id": "464624de-02e1-497d-a40c-a300aeccb089",
   "metadata": {},
   "outputs": [
    {
     "name": "stderr",
     "output_type": "stream",
     "text": [
      "/home/capios/anaconda3/envs/torch/lib/python3.10/site-packages/tqdm/auto.py:21: TqdmWarning: IProgress not found. Please update jupyter and ipywidgets. See https://ipywidgets.readthedocs.io/en/stable/user_install.html\n",
      "  from .autonotebook import tqdm as notebook_tqdm\n"
     ]
    }
   ],
   "source": [
    "from transformers import AutoModelForCausalLM, AutoTokenizer"
   ]
  },
  {
   "cell_type": "code",
   "execution_count": 2,
   "id": "b3ec8e91-9494-468d-8206-77e9f11d432e",
   "metadata": {},
   "outputs": [],
   "source": [
    "model_dir = \"/data/Models/Llama-3.2-3B-Instruct-QLORA_INT4_EO8\""
   ]
  },
  {
   "cell_type": "code",
   "execution_count": 3,
   "id": "dcdcedec-04a2-4cdb-89b0-2b227e19bfb4",
   "metadata": {},
   "outputs": [
    {
     "name": "stderr",
     "output_type": "stream",
     "text": [
      "Loading checkpoint shards: 100%|████████████████████████████████████████████████████| 4/4 [00:05<00:00,  1.27s/it]\n"
     ]
    }
   ],
   "source": [
    "model = AutoModelForCausalLM.from_pretrained(model_dir, trust_remote_code=True, device_map='auto')\n",
    "tokenizer = AutoTokenizer.from_pretrained(model_dir, trust_remote_code=True)"
   ]
  },
  {
   "cell_type": "code",
   "execution_count": 4,
   "id": "d58cdab8-2acd-4615-b4b7-d8b54346314e",
   "metadata": {},
   "outputs": [
    {
     "name": "stderr",
     "output_type": "stream",
     "text": [
      "The attention mask and the pad token id were not set. As a consequence, you may observe unexpected behavior. Please pass your input's `attention_mask` to obtain reliable results.\n",
      "Setting `pad_token_id` to `eos_token_id`:128001 for open-end generation.\n",
      "The attention mask is not set and cannot be inferred from input because pad token is same as eos token. As a consequence, you may observe unexpected behavior. Please pass your input's `attention_mask` to obtain reliable results.\n"
     ]
    },
    {
     "data": {
      "text/plain": [
       "tensor([[128000,   1090,  48945,  26639,  19816,    311,    757,    198,    791,\n",
       "           3907,    315,   8421,    520,  19816,    374,    832,    315,    279,\n",
       "           7928,    586,  23978,    304,    279,   3723,   4273,    449,    927,\n",
       "            220,   1135,     11,    931,   4236,  37191,     13,    578,  12374,\n",
       "           6209,    264,   7029,   8205,    315,  14584,   7620,     11,   2737,\n",
       "          41534,    323,  19560,  12628,     11,    323,    374,   3967,    369,\n",
       "           1202,   3831,   3495,    323,  12917,   7620,    627,   1406,  19816,\n",
       "            374,   7559,    304,    279,   4851,    315,  19816,     11,   8421,\n",
       "             11,    264,  34076,   3363,    449,    264,   7982,  13312,   6237,\n",
       "            323,    264,   3831,  21210,   4029,     13,    578,  12374,    706,\n",
       "            264,   3831,  15507,    311,  20057,    323,  28286,     11,    323,\n",
       "           6209,    264,   7029,   2134,    315,   5070,    323,   1862,    369,\n",
       "           4236,    505,    682,  36576,    627,    791,  12374,    374,   2162,\n",
       "            311,   3892,  37048,   8853,    323,  31252,     11,   2737,    279,\n",
       "           9304,    315]], device='cuda:0')"
      ]
     },
     "execution_count": 4,
     "metadata": {},
     "output_type": "execute_result"
    }
   ],
   "source": [
    "question = \"Introduce UT Austin to me\"\n",
    "\n",
    "\n",
    "inputs = tokenizer(question, return_tensors='pt').to(model.device)\n",
    "response = model.generate(inputs.input_ids, max_length=128)\n",
    "response"
   ]
  },
  {
   "cell_type": "code",
   "execution_count": 9,
   "id": "c65b638a-6d6b-4c62-83b6-199b7657f6bc",
   "metadata": {},
   "outputs": [
    {
     "name": "stdout",
     "output_type": "stream",
     "text": [
      "Introduce UT Austin to me\n",
      "The University of Texas at Austin is one of the largest public universities in the United States with over 50,000 students enrolled. The university offers a wide variety of academic programs, including undergraduate and graduate degrees, and is known for its strong research and teaching programs.\n",
      "UT Austin is located in the heart of Austin, Texas, a vibrant city with a growing tech scene and a strong startup community. The university has a strong commitment to diversity and inclusion, and offers a wide range of resources and support for students from all backgrounds.\n",
      "The university is home to several renowned schools and colleges, including the College of\n"
     ]
    }
   ],
   "source": [
    "print(tokenizer.decode(response.cpu()[0], skip_special_tokens=True))"
   ]
  },
  {
   "cell_type": "code",
   "execution_count": null,
   "id": "26fa6657-4873-4a2b-8a47-e1ddb1cabe87",
   "metadata": {},
   "outputs": [],
   "source": []
  }
 ],
 "metadata": {
  "kernelspec": {
   "display_name": "torch",
   "language": "python",
   "name": "torch"
  },
  "language_info": {
   "codemirror_mode": {
    "name": "ipython",
    "version": 3
   },
   "file_extension": ".py",
   "mimetype": "text/x-python",
   "name": "python",
   "nbconvert_exporter": "python",
   "pygments_lexer": "ipython3",
   "version": "3.10.16"
  }
 },
 "nbformat": 4,
 "nbformat_minor": 5
}
